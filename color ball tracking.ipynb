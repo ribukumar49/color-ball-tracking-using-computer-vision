{
 "cells": [
  {
   "cell_type": "code",
   "execution_count": 13,
   "id": "00956753",
   "metadata": {},
   "outputs": [],
   "source": [
    "import cv2\n",
    "import numpy as np\n",
    "import time"
   ]
  },
  {
   "cell_type": "code",
   "execution_count": 14,
   "id": "cb125c5c",
   "metadata": {},
   "outputs": [],
   "source": [
    "color_ranges = {\n",
    "    'red': ([0, 120, 70], [10, 255, 255]),\n",
    "    'green': ([36, 25, 25], [86, 255, 255]),\n",
    "    'yellow': ([25, 100, 100], [35, 255, 255]),\n",
    "    'white': ([0, 0, 200], [180, 20, 255]),\n",
    "}"
   ]
  },
  {
   "cell_type": "code",
   "execution_count": 15,
   "id": "dec422d8",
   "metadata": {},
   "outputs": [],
   "source": [
    "def detect_balls(frame, color_ranges):\n",
    "    hsv = cv2.cvtColor(frame, cv2.COLOR_BGR2HSV)\n",
    "    balls = {}\n",
    "    for color, (lower, upper) in color_ranges.items():\n",
    "        lower = np.array(lower, dtype=np.uint8)\n",
    "        upper = np.array(upper, dtype=np.uint8)\n",
    "        mask = cv2.inRange(hsv, lower, upper)\n",
    "        mask = cv2.erode(mask, None, iterations=2)\n",
    "        mask = cv2.dilate(mask, None, iterations=2)\n",
    "        cnts, _ = cv2.findContours(mask.copy(), cv2.RETR_EXTERNAL, cv2.CHAIN_APPROX_SIMPLE)\n",
    "        if cnts:\n",
    "            c = max(cnts, key=cv2.contourArea)\n",
    "            ((x, y), radius) = cv2.minEnclosingCircle(c)\n",
    "            if radius > 10:\n",
    "                balls[color] = (int(x), int(y), int(radius))\n",
    "    return balls"
   ]
  },
  {
   "cell_type": "code",
   "execution_count": 16,
   "id": "0ccd5a4d",
   "metadata": {},
   "outputs": [],
   "source": [
    "def determine_quadrant(x, y, width, height):\n",
    "    if x < width / 2:\n",
    "        if y < height / 2:\n",
    "            return 1\n",
    "        else:\n",
    "            return 3\n",
    "    else:\n",
    "        if y < height / 2:\n",
    "            return 2\n",
    "        else:\n",
    "            return 4"
   ]
  },
  {
   "cell_type": "code",
   "execution_count": 17,
   "id": "edc40534",
   "metadata": {},
   "outputs": [],
   "source": [
    "cap = cv2.VideoCapture('AI Assignment video.mp4')"
   ]
  },
  {
   "cell_type": "code",
   "execution_count": 18,
   "id": "a7fa207d",
   "metadata": {},
   "outputs": [],
   "source": [
    "width = int(cap.get(cv2.CAP_PROP_FRAME_WIDTH))\n",
    "height = int(cap.get(cv2.CAP_PROP_FRAME_HEIGHT))\n",
    "fps = cap.get(cv2.CAP_PROP_FPS)\n",
    "total_frames = int(cap.get(cv2.CAP_PROP_FRAME_COUNT))"
   ]
  },
  {
   "cell_type": "code",
   "execution_count": 19,
   "id": "349fb2b0",
   "metadata": {},
   "outputs": [],
   "source": [
    "fourcc = cv2.VideoWriter_fourcc(*'XVID')\n",
    "out = cv2.VideoWriter('processed_video.avi', fourcc, fps, (width, height))"
   ]
  },
  {
   "cell_type": "code",
   "execution_count": 20,
   "id": "53b65462",
   "metadata": {},
   "outputs": [],
   "source": [
    "ball_positions = {}\n",
    "events = []"
   ]
  },
  {
   "cell_type": "code",
   "execution_count": 21,
   "id": "c33a8a67",
   "metadata": {},
   "outputs": [],
   "source": [
    "start_time = time.time()\n",
    "frame_num = 0\n",
    "while cap.isOpened():\n",
    "    ret, frame = cap.read()\n",
    "    if not ret:\n",
    "        break\n",
    "\n",
    "    balls = detect_balls(frame, color_ranges)\n",
    "\n",
    "    for color, (x, y, radius) in balls.items():\n",
    "        quadrant = determine_quadrant(x, y, width, height)\n",
    "\n",
    "        if color not in ball_positions:\n",
    "            ball_positions[color] = None\n",
    "\n",
    "        previous_quadrant = ball_positions[color]\n",
    "        ball_positions[color] = quadrant\n",
    "\n",
    "        if previous_quadrant is None:\n",
    "            # First detection, assume entry\n",
    "            event_type = 'Entry'\n",
    "        elif previous_quadrant != quadrant:\n",
    "            event_type = 'Entry' if previous_quadrant is None else 'Exit'\n",
    "            events.append((frame_num / fps, quadrant, color, event_type))\n",
    "            event_text = f\"{event_type}: Q{quadrant} at {frame_num / fps:.2f}s\"\n",
    "            cv2.putText(frame, event_text, (x - 10, y - 10), cv2.FONT_HERSHEY_SIMPLEX, 0.5, (0, 0, 0), 2)\n",
    "            cv2.putText(frame, event_text, (x - 10, y - 10), cv2.FONT_HERSHEY_SIMPLEX, 0.5, (255, 255, 255), 1)\n",
    "\n",
    "        # Draw the ball and the quadrant on the frame\n",
    "        cv2.circle(frame, (x, y), radius, (0, 255, 255), 2)\n",
    "        cv2.putText(frame, f\"{color}\", (x - 10, y - 10), cv2.FONT_HERSHEY_SIMPLEX, 0.5, (0, 0, 0), 2)\n",
    "        cv2.putText(frame, f\"{color}\", (x - 10, y - 10), cv2.FONT_HERSHEY_SIMPLEX, 0.5, (255, 255, 255), 1)\n",
    "\n",
    "    # Draw quadrant lines\n",
    "    cv2.line(frame, (width // 2, 0), (width // 2, height), (255, 255, 255), 2)\n",
    "    cv2.line(frame, (0, height // 2), (width, height // 2), (255, 255, 255), 2)\n",
    "\n",
    "    out.write(frame)\n",
    "    frame_num += 1\n"
   ]
  },
  {
   "cell_type": "code",
   "execution_count": 22,
   "id": "7343d14b",
   "metadata": {},
   "outputs": [],
   "source": [
    "cap.release()\n",
    "out.release()"
   ]
  },
  {
   "cell_type": "code",
   "execution_count": 23,
   "id": "7ca6468b",
   "metadata": {},
   "outputs": [],
   "source": [
    "with open('event_log.txt', 'w') as f:\n",
    "    for event in events:\n",
    "        f.write(f\"{event[0]:.2f}, {event[1]}, {event[2]}, {event[3]}\\n\")\n"
   ]
  },
  {
   "cell_type": "code",
   "execution_count": 24,
   "id": "596743d2",
   "metadata": {},
   "outputs": [
    {
     "name": "stdout",
     "output_type": "stream",
     "text": [
      "Processing complete. Processed video saved as 'processed_video.avi' and event log saved as 'event_log.txt'.\n"
     ]
    }
   ],
   "source": [
    "print(\"Processing complete. Processed video saved as 'processed_video.avi' and event log saved as 'event_log.txt'.\")"
   ]
  },
  {
   "cell_type": "code",
   "execution_count": null,
   "id": "d11341f6",
   "metadata": {},
   "outputs": [],
   "source": []
  }
 ],
 "metadata": {
  "kernelspec": {
   "display_name": "Python 3 (ipykernel)",
   "language": "python",
   "name": "python3"
  },
  "language_info": {
   "codemirror_mode": {
    "name": "ipython",
    "version": 3
   },
   "file_extension": ".py",
   "mimetype": "text/x-python",
   "name": "python",
   "nbconvert_exporter": "python",
   "pygments_lexer": "ipython3",
   "version": "3.10.7"
  }
 },
 "nbformat": 4,
 "nbformat_minor": 5
}
